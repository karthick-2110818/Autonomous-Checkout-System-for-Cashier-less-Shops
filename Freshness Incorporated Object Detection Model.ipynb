{
 "cells": [
  {
   "cell_type": "code",
   "execution_count": null,
   "id": "184b7bfb-81b4-4251-90a5-8badfd3c4b29",
   "metadata": {},
   "outputs": [],
   "source": [
    "#Train your model after data collection and split train, test and validation datasets\n",
    "from ultralytics import YOLO\n",
    "\n",
    "# Load a model\n",
    "model = YOLO(\"yolo11s.pt\")  # load a pretrained model (recommended for training)\n",
    "\n",
    "# Train the model\n",
    "results = model.train(data=\"#path to your YAML file\", epochs=500, imgsz=240)"
   ]
  },
  {
   "cell_type": "code",
   "execution_count": null,
   "id": "c5c8f0db-fa35-4a88-bc6c-586c0ac9172c",
   "metadata": {},
   "outputs": [],
   "source": [
    "# Resume training if stopped in between\n",
    "from ultralytics import YOLO\n",
    "\n",
    "# Load a model\n",
    "model = YOLO(r\"Path to your recent pytorch file\")  # load a partially trained model\n",
    "\n",
    "# Resume training\n",
    "results = model.train(resume=True)"
   ]
  },
  {
   "cell_type": "code",
   "execution_count": null,
   "id": "5fa982ee-eab2-4444-b249-465b18b0e5e1",
   "metadata": {},
   "outputs": [],
   "source": [
    "#Live webcam feed testing\n",
    "from ultralytics import YOLO\n",
    "\n",
    "# Load a pretrained YOLOv11s model\n",
    "model = YOLO(r\"#path to your best.pt file\")\n",
    "\n",
    "\n",
    "model.predict(source=\"0\", show=True, imgsz=240, conf=0.4, save=True)"
   ]
  },
  {
   "cell_type": "code",
   "execution_count": null,
   "id": "1c6674cf-f453-4ab4-b0e5-3ea6c04b46fb",
   "metadata": {},
   "outputs": [],
   "source": [
    "#Conversion to TFLite format\n",
    "\n",
    "from ultralytics import YOLO\n",
    "\n",
    "# Load the YOLO11 model\n",
    "model = YOLO(r\"path to your best.pt\")\n",
    "\n",
    "# Export the model to TFLite format\n",
    "model.export(format=\"onnx\")  # creates 'yolo11n_float32.tflite'"
   ]
  },
  {
   "cell_type": "code",
   "execution_count": null,
   "id": "81cedc19-2a51-4fb2-a3a7-45da2431cb32",
   "metadata": {},
   "outputs": [],
   "source": [
    "#Live Webcam Feed Testing of tflite format\n",
    "from ultralytics import YOLO\n",
    "model = YOLO(r\"path to your onnx file\")\n",
    "\n",
    "# Run inference\n",
    "model.predict(source=\"0\", show=True, imgsz=240, conf=0.4, save=True)"
   ]
  },
  {
   "cell_type": "code",
   "execution_count": null,
   "id": "cfc3d8a4-e261-4f53-b500-3a6b45b9d378",
   "metadata": {},
   "outputs": [],
   "source": []
  }
 ],
 "metadata": {
  "kernelspec": {
   "display_name": "Python 3 (ipykernel)",
   "language": "python",
   "name": "python3"
  },
  "language_info": {
   "codemirror_mode": {
    "name": "ipython",
    "version": 3
   },
   "file_extension": ".py",
   "mimetype": "text/x-python",
   "name": "python",
   "nbconvert_exporter": "python",
   "pygments_lexer": "ipython3",
   "version": "3.9.18"
  }
 },
 "nbformat": 4,
 "nbformat_minor": 5
}
